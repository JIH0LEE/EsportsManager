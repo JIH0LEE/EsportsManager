{
 "cells": [
  {
   "cell_type": "markdown",
   "id": "82b08a0d",
   "metadata": {},
   "source": [
    "# import"
   ]
  },
  {
   "cell_type": "code",
   "execution_count": 19,
   "id": "b0c34bcf",
   "metadata": {},
   "outputs": [],
   "source": [
    "import requests\n",
    "from bs4 import BeautifulSoup\n",
    "import pandas as pd;\n",
    "import time\n",
    "import urllib.request"
   ]
  },
  {
   "cell_type": "markdown",
   "id": "8d1525d5",
   "metadata": {},
   "source": [
    "## Image Url"
   ]
  },
  {
   "cell_type": "code",
   "execution_count": 20,
   "id": "cef78f8d",
   "metadata": {},
   "outputs": [],
   "source": [
    "df=pd.read_csv(\"champion_no_tier.csv\",sep=\";\")"
   ]
  },
  {
   "cell_type": "code",
   "execution_count": 21,
   "id": "5bbbe767",
   "metadata": {},
   "outputs": [
    {
     "data": {
      "text/plain": [
       "0             garen\n",
       "1             galio\n",
       "2         gangplank\n",
       "3            gragas\n",
       "4            graves\n",
       "           ...     \n",
       "156    fiddlesticks\n",
       "157           fiora\n",
       "158            fizz\n",
       "159    heimerdinger\n",
       "160         hecarim\n",
       "Name: english_name, Length: 161, dtype: object"
      ]
     },
     "execution_count": 21,
     "metadata": {},
     "output_type": "execute_result"
    }
   ],
   "source": [
    "df['english_name']"
   ]
  },
  {
   "cell_type": "code",
   "execution_count": 22,
   "id": "06414314",
   "metadata": {},
   "outputs": [],
   "source": [
    "base_url = \"https://www.op.gg/champions/\"\n",
    "\n",
    "headers = {'User-Agent': 'Mozilla/5.0 (Macintosh; Intel Mac OS X 10_11_5) AppleWebKit/537.36 (KHTML, like Gecko) Chrome/50.0.2661.102 Safari/537.36'}"
   ]
  },
  {
   "cell_type": "code",
   "execution_count": 23,
   "id": "a4d1e240",
   "metadata": {},
   "outputs": [],
   "source": [
    "# for idx, item in df.iterrows():\n",
    "#     image_name = item['english_name']+\".png\"\n",
    "#     url = item['image']\n",
    "#     urllib.request.urlretrieve(url, \"./images/\"+image_name)\n",
    "#     time.sleep(5)"
   ]
  },
  {
   "cell_type": "code",
   "execution_count": 24,
   "id": "c4f247d2",
   "metadata": {},
   "outputs": [],
   "source": [
    "storage_url=\"https://lck-esports-manager.s3.ap-northeast-2.amazonaws.com/champion/\""
   ]
  },
  {
   "cell_type": "code",
   "execution_count": 25,
   "id": "1c04c51e",
   "metadata": {},
   "outputs": [],
   "source": [
    "for idx, item in df.iterrows():\n",
    "    name = item['english_name']\n",
    "    df.loc[idx,'image'] = storage_url+name+\".png\"\n"
   ]
  },
  {
   "cell_type": "code",
   "execution_count": 26,
   "id": "5f18bd36",
   "metadata": {},
   "outputs": [
    {
     "data": {
      "text/html": [
       "<div>\n",
       "<style scoped>\n",
       "    .dataframe tbody tr th:only-of-type {\n",
       "        vertical-align: middle;\n",
       "    }\n",
       "\n",
       "    .dataframe tbody tr th {\n",
       "        vertical-align: top;\n",
       "    }\n",
       "\n",
       "    .dataframe thead th {\n",
       "        text-align: right;\n",
       "    }\n",
       "</style>\n",
       "<table border=\"1\" class=\"dataframe\">\n",
       "  <thead>\n",
       "    <tr style=\"text-align: right;\">\n",
       "      <th></th>\n",
       "      <th>id</th>\n",
       "      <th>korean_name</th>\n",
       "      <th>english_name</th>\n",
       "      <th>position</th>\n",
       "      <th>image</th>\n",
       "      <th>tier</th>\n",
       "      <th>feature</th>\n",
       "    </tr>\n",
       "  </thead>\n",
       "  <tbody>\n",
       "    <tr>\n",
       "      <th>0</th>\n",
       "      <td>1</td>\n",
       "      <td>가렌</td>\n",
       "      <td>garen</td>\n",
       "      <td>MIDDLE</td>\n",
       "      <td>https://lck-esports-manager.s3.ap-northeast-2....</td>\n",
       "      <td>NaN</td>\n",
       "      <td>NaN</td>\n",
       "    </tr>\n",
       "    <tr>\n",
       "      <th>1</th>\n",
       "      <td>2</td>\n",
       "      <td>갈리오</td>\n",
       "      <td>galio</td>\n",
       "      <td>TOP</td>\n",
       "      <td>https://lck-esports-manager.s3.ap-northeast-2....</td>\n",
       "      <td>NaN</td>\n",
       "      <td>NaN</td>\n",
       "    </tr>\n",
       "    <tr>\n",
       "      <th>2</th>\n",
       "      <td>3</td>\n",
       "      <td>갱플랭크</td>\n",
       "      <td>gangplank</td>\n",
       "      <td>MIDDLE</td>\n",
       "      <td>https://lck-esports-manager.s3.ap-northeast-2....</td>\n",
       "      <td>NaN</td>\n",
       "      <td>NaN</td>\n",
       "    </tr>\n",
       "    <tr>\n",
       "      <th>3</th>\n",
       "      <td>4</td>\n",
       "      <td>그라가스</td>\n",
       "      <td>gragas</td>\n",
       "      <td>MIDDLE</td>\n",
       "      <td>https://lck-esports-manager.s3.ap-northeast-2....</td>\n",
       "      <td>NaN</td>\n",
       "      <td>NaN</td>\n",
       "    </tr>\n",
       "    <tr>\n",
       "      <th>4</th>\n",
       "      <td>5</td>\n",
       "      <td>그레이브즈</td>\n",
       "      <td>graves</td>\n",
       "      <td>TOP</td>\n",
       "      <td>https://lck-esports-manager.s3.ap-northeast-2....</td>\n",
       "      <td>NaN</td>\n",
       "      <td>NaN</td>\n",
       "    </tr>\n",
       "  </tbody>\n",
       "</table>\n",
       "</div>"
      ],
      "text/plain": [
       "   id korean_name english_name position  \\\n",
       "0   1          가렌        garen   MIDDLE   \n",
       "1   2         갈리오        galio      TOP   \n",
       "2   3        갱플랭크    gangplank   MIDDLE   \n",
       "3   4        그라가스       gragas   MIDDLE   \n",
       "4   5       그레이브즈       graves      TOP   \n",
       "\n",
       "                                               image  tier  feature  \n",
       "0  https://lck-esports-manager.s3.ap-northeast-2....   NaN      NaN  \n",
       "1  https://lck-esports-manager.s3.ap-northeast-2....   NaN      NaN  \n",
       "2  https://lck-esports-manager.s3.ap-northeast-2....   NaN      NaN  \n",
       "3  https://lck-esports-manager.s3.ap-northeast-2....   NaN      NaN  \n",
       "4  https://lck-esports-manager.s3.ap-northeast-2....   NaN      NaN  "
      ]
     },
     "execution_count": 26,
     "metadata": {},
     "output_type": "execute_result"
    }
   ],
   "source": [
    "df.head(5)"
   ]
  },
  {
   "cell_type": "code",
   "execution_count": 28,
   "id": "6f3d5069",
   "metadata": {},
   "outputs": [],
   "source": [
    "df.to_csv(\"champion_with_url.csv\",sep=\";\",index=False, encoding=\"utf-8-sig\",)"
   ]
  },
  {
   "cell_type": "code",
   "execution_count": null,
   "id": "00c8fae9",
   "metadata": {},
   "outputs": [],
   "source": []
  }
 ],
 "metadata": {
  "kernelspec": {
   "display_name": "Python 3 (ipykernel)",
   "language": "python",
   "name": "python3"
  },
  "language_info": {
   "codemirror_mode": {
    "name": "ipython",
    "version": 3
   },
   "file_extension": ".py",
   "mimetype": "text/x-python",
   "name": "python",
   "nbconvert_exporter": "python",
   "pygments_lexer": "ipython3",
   "version": "3.9.4"
  }
 },
 "nbformat": 4,
 "nbformat_minor": 5
}
