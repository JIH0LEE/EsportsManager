{
 "cells": [
  {
   "cell_type": "code",
   "execution_count": 26,
   "id": "f1755237",
   "metadata": {},
   "outputs": [],
   "source": [
    "import pandas as pd"
   ]
  },
  {
   "cell_type": "code",
   "execution_count": 27,
   "id": "10345cc7",
   "metadata": {},
   "outputs": [],
   "source": [
    "data=[\n",
    "    {\"id\":1,\"name\":\"T1\",\"logo\":\"https://lck-esports-manager.s3.ap-northeast-2.amazonaws.com/logo/T1.png\"},\n",
    "    {\"id\":2,\"name\":\"Gen.G\",\"logo\":\"https://lck-esports-manager.s3.ap-northeast-2.amazonaws.com/logo/geng.png\"},\n",
    "    {\"id\":3,\"name\":\"DRX\",\"logo\":\"https://lck-esports-manager.s3.ap-northeast-2.amazonaws.com/logo/drx.png\"},\n",
    "    {\"id\":4,\"name\":\"DWG KIA\",\"logo\":\"https://lck-esports-manager.s3.ap-northeast-2.amazonaws.com/logo/dwg.png\"},\n",
    "    {\"id\":5,\"name\":\"Fredit BRION\",\"logo\":\"https://lck-esports-manager.s3.ap-northeast-2.amazonaws.com/logo/fredit.png\"},\n",
    "    {\"id\":6,\"name\":\"Kwangdong Freecs\",\"logo\":\"https://lck-esports-manager.s3.ap-northeast-2.amazonaws.com/logo/freecs.png\"},\n",
    "    {\"id\":7,\"name\":\"Hanwha Life Esports\",\"logo\":\"https://lck-esports-manager.s3.ap-northeast-2.amazonaws.com/logo/hanwha.png\"},\n",
    "    {\"id\":8,\"name\":\"KT Rolster\",\"logo\":\"https://lck-esports-manager.s3.ap-northeast-2.amazonaws.com/logo/kt.png\"},\n",
    "    {\"id\":9,\"name\":\"Liiv SANDBOX\",\"logo\":\"https://lck-esports-manager.s3.ap-northeast-2.amazonaws.com/logo/sandbox.png\"},\n",
    "    {\"id\":10,\"name\":\"Nongshim RedForce\",\"logo\":\"https://lck-esports-manager.s3.ap-northeast-2.amazonaws.com/logo/nogsim.png\"}\n",
    "]"
   ]
  },
  {
   "cell_type": "code",
   "execution_count": 28,
   "id": "881279af",
   "metadata": {},
   "outputs": [],
   "source": [
    "df=pd.DataFrame(columns=[\"id\",\"name\",\"logo\"])"
   ]
  },
  {
   "cell_type": "code",
   "execution_count": 29,
   "id": "89e0f430",
   "metadata": {},
   "outputs": [
    {
     "name": "stdout",
     "output_type": "stream",
     "text": [
      "{'id': 1, 'name': 'T1', 'logo': 'https://lck-esports-manager.s3.ap-northeast-2.amazonaws.com/logo/T1.png'}\n",
      "{'id': 2, 'name': 'Gen.G', 'logo': 'https://lck-esports-manager.s3.ap-northeast-2.amazonaws.com/logo/geng.png'}\n",
      "{'id': 3, 'name': 'DRX', 'logo': 'https://lck-esports-manager.s3.ap-northeast-2.amazonaws.com/logo/drx.png'}\n",
      "{'id': 4, 'name': 'DWG KIA', 'logo': 'https://lck-esports-manager.s3.ap-northeast-2.amazonaws.com/logo/dwg.png'}\n",
      "{'id': 5, 'name': 'Fredit BRION', 'logo': 'https://lck-esports-manager.s3.ap-northeast-2.amazonaws.com/logo/fredit.png'}\n",
      "{'id': 6, 'name': 'Kwangdong Freecs', 'logo': 'https://lck-esports-manager.s3.ap-northeast-2.amazonaws.com/logo/freecs.png'}\n",
      "{'id': 7, 'name': 'Hanwha Life Esports', 'logo': 'https://lck-esports-manager.s3.ap-northeast-2.amazonaws.com/logo/hanwha.png'}\n",
      "{'id': 8, 'name': 'KT Rolster', 'logo': 'https://lck-esports-manager.s3.ap-northeast-2.amazonaws.com/logo/kt.png'}\n",
      "{'id': 9, 'name': 'Liiv SANDBOX', 'logo': 'https://lck-esports-manager.s3.ap-northeast-2.amazonaws.com/logo/sandbox.png'}\n",
      "{'id': 10, 'name': 'Nongshim RedForce', 'logo': 'https://lck-esports-manager.s3.ap-northeast-2.amazonaws.com/logo/nogsim.png'}\n"
     ]
    }
   ],
   "source": [
    "for idx,team in enumerate(data):\n",
    "    print(team)\n",
    "    df.loc[idx]=team"
   ]
  },
  {
   "cell_type": "code",
   "execution_count": 30,
   "id": "60d14b84",
   "metadata": {},
   "outputs": [
    {
     "data": {
      "text/html": [
       "<div>\n",
       "<style scoped>\n",
       "    .dataframe tbody tr th:only-of-type {\n",
       "        vertical-align: middle;\n",
       "    }\n",
       "\n",
       "    .dataframe tbody tr th {\n",
       "        vertical-align: top;\n",
       "    }\n",
       "\n",
       "    .dataframe thead th {\n",
       "        text-align: right;\n",
       "    }\n",
       "</style>\n",
       "<table border=\"1\" class=\"dataframe\">\n",
       "  <thead>\n",
       "    <tr style=\"text-align: right;\">\n",
       "      <th></th>\n",
       "      <th>id</th>\n",
       "      <th>name</th>\n",
       "      <th>logo</th>\n",
       "    </tr>\n",
       "  </thead>\n",
       "  <tbody>\n",
       "    <tr>\n",
       "      <th>0</th>\n",
       "      <td>1</td>\n",
       "      <td>T1</td>\n",
       "      <td>https://lck-esports-manager.s3.ap-northeast-2....</td>\n",
       "    </tr>\n",
       "    <tr>\n",
       "      <th>1</th>\n",
       "      <td>2</td>\n",
       "      <td>Gen.G</td>\n",
       "      <td>https://lck-esports-manager.s3.ap-northeast-2....</td>\n",
       "    </tr>\n",
       "    <tr>\n",
       "      <th>2</th>\n",
       "      <td>3</td>\n",
       "      <td>DRX</td>\n",
       "      <td>https://lck-esports-manager.s3.ap-northeast-2....</td>\n",
       "    </tr>\n",
       "    <tr>\n",
       "      <th>3</th>\n",
       "      <td>4</td>\n",
       "      <td>DWG KIA</td>\n",
       "      <td>https://lck-esports-manager.s3.ap-northeast-2....</td>\n",
       "    </tr>\n",
       "    <tr>\n",
       "      <th>4</th>\n",
       "      <td>5</td>\n",
       "      <td>Fredit BRION</td>\n",
       "      <td>https://lck-esports-manager.s3.ap-northeast-2....</td>\n",
       "    </tr>\n",
       "  </tbody>\n",
       "</table>\n",
       "</div>"
      ],
      "text/plain": [
       "   id          name                                               logo\n",
       "0   1            T1  https://lck-esports-manager.s3.ap-northeast-2....\n",
       "1   2         Gen.G  https://lck-esports-manager.s3.ap-northeast-2....\n",
       "2   3           DRX  https://lck-esports-manager.s3.ap-northeast-2....\n",
       "3   4       DWG KIA  https://lck-esports-manager.s3.ap-northeast-2....\n",
       "4   5  Fredit BRION  https://lck-esports-manager.s3.ap-northeast-2...."
      ]
     },
     "execution_count": 30,
     "metadata": {},
     "output_type": "execute_result"
    }
   ],
   "source": [
    "df.head()"
   ]
  },
  {
   "cell_type": "code",
   "execution_count": 31,
   "id": "e6778b3f",
   "metadata": {},
   "outputs": [],
   "source": [
    "df.to_csv(\"./csv/base_team.csv\",encoding=\"utf-8\",sep=\";\",index=False)"
   ]
  },
  {
   "cell_type": "code",
   "execution_count": null,
   "id": "12a8e2e7",
   "metadata": {},
   "outputs": [],
   "source": []
  }
 ],
 "metadata": {
  "kernelspec": {
   "display_name": "Python 3 (ipykernel)",
   "language": "python",
   "name": "python3"
  },
  "language_info": {
   "codemirror_mode": {
    "name": "ipython",
    "version": 3
   },
   "file_extension": ".py",
   "mimetype": "text/x-python",
   "name": "python",
   "nbconvert_exporter": "python",
   "pygments_lexer": "ipython3",
   "version": "3.9.4"
  }
 },
 "nbformat": 4,
 "nbformat_minor": 5
}
