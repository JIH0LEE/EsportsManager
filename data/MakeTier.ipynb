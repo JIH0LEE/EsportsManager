{
 "cells": [
  {
   "cell_type": "markdown",
   "id": "1457d8cd",
   "metadata": {},
   "source": [
    "# Import"
   ]
  },
  {
   "cell_type": "code",
   "execution_count": 11,
   "id": "7e228afe",
   "metadata": {},
   "outputs": [],
   "source": [
    "import requests\n",
    "from bs4 import BeautifulSoup\n",
    "import pandas as pd;\n",
    "import urllib.request"
   ]
  },
  {
   "cell_type": "code",
   "execution_count": 12,
   "id": "2e92b123",
   "metadata": {},
   "outputs": [],
   "source": [
    "df=pd.read_csv(\"champion_with_url.csv\", encoding=\"utf-8-sig\",sep=\";\")"
   ]
  },
  {
   "cell_type": "markdown",
   "id": "1faee792",
   "metadata": {},
   "source": [
    "## Add Tier"
   ]
  },
  {
   "cell_type": "code",
   "execution_count": 13,
   "id": "1e39a765",
   "metadata": {},
   "outputs": [],
   "source": [
    "base_url=\"https://euw.op.gg/champions?region=euw&tier=platinum_plus&position=\"\n",
    "headers = {'User-Agent': 'Mozilla/5.0 (Macintosh; Intel Mac OS X 10_11_5) AppleWebKit/537.36 (KHTML, like Gecko) Chrome/50.0.2661.102 Safari/537.36'}"
   ]
  },
  {
   "cell_type": "code",
   "execution_count": null,
   "id": "b43ca70e",
   "metadata": {},
   "outputs": [],
   "source": []
  },
  {
   "cell_type": "code",
   "execution_count": 14,
   "id": "77f7fc15",
   "metadata": {},
   "outputs": [],
   "source": [
    "a=['top','jungle','mid','adc','support']\n",
    "b=['TOP','JUNGLE','MIDDLE','ADC','SUPPORT']"
   ]
  },
  {
   "cell_type": "code",
   "execution_count": 15,
   "id": "436cf098",
   "metadata": {},
   "outputs": [],
   "source": [
    "for i in range(5):\n",
    "    url = base_url+a[i]\n",
    "    response = requests.get(url,headers=headers);\n",
    "    soup =BeautifulSoup(html,'html.parser')\n",
    "    table=soup.find(\"tbody\")\n",
    "    champion = table.find_all(\"tr\")\n",
    "    temp=dict()\n",
    "    for elem in champion:\n",
    "        name=elem.find(\"strong\").text.lower().replace(\"\\'\",\"\").replace(\" \",\"\").replace(\"\\\\\",\"\").replace('.',\"\").replace(\"’\",\"\")\n",
    "        tier=int(elem.find(\"td\",\"css-ew1afn\").text)\n",
    "        temp[name]=tier\n",
    "    position_list=df[df[\"position\"]==b[i]]\n",
    "    for idx, item in position_list.iterrows():\n",
    "        name = item['english_name']\n",
    "        df.loc[idx,'tier'] = temp[name] if name in temp.keys() else  5"
   ]
  },
  {
   "cell_type": "code",
   "execution_count": 16,
   "id": "4ea21742",
   "metadata": {},
   "outputs": [
    {
     "data": {
      "text/html": [
       "<div>\n",
       "<style scoped>\n",
       "    .dataframe tbody tr th:only-of-type {\n",
       "        vertical-align: middle;\n",
       "    }\n",
       "\n",
       "    .dataframe tbody tr th {\n",
       "        vertical-align: top;\n",
       "    }\n",
       "\n",
       "    .dataframe thead th {\n",
       "        text-align: right;\n",
       "    }\n",
       "</style>\n",
       "<table border=\"1\" class=\"dataframe\">\n",
       "  <thead>\n",
       "    <tr style=\"text-align: right;\">\n",
       "      <th></th>\n",
       "      <th>id</th>\n",
       "      <th>korean_name</th>\n",
       "      <th>english_name</th>\n",
       "      <th>position</th>\n",
       "      <th>image</th>\n",
       "      <th>tier</th>\n",
       "      <th>feature</th>\n",
       "    </tr>\n",
       "  </thead>\n",
       "  <tbody>\n",
       "    <tr>\n",
       "      <th>0</th>\n",
       "      <td>1</td>\n",
       "      <td>가렌</td>\n",
       "      <td>garen</td>\n",
       "      <td>TOP</td>\n",
       "      <td>https://lck-esports-manager.s3.ap-northeast-2....</td>\n",
       "      <td>1.0</td>\n",
       "      <td>NaN</td>\n",
       "    </tr>\n",
       "    <tr>\n",
       "      <th>1</th>\n",
       "      <td>2</td>\n",
       "      <td>갈리오</td>\n",
       "      <td>galio</td>\n",
       "      <td>MIDDLE</td>\n",
       "      <td>https://lck-esports-manager.s3.ap-northeast-2....</td>\n",
       "      <td>5.0</td>\n",
       "      <td>NaN</td>\n",
       "    </tr>\n",
       "    <tr>\n",
       "      <th>2</th>\n",
       "      <td>3</td>\n",
       "      <td>갱플랭크</td>\n",
       "      <td>gangplank</td>\n",
       "      <td>TOP</td>\n",
       "      <td>https://lck-esports-manager.s3.ap-northeast-2....</td>\n",
       "      <td>4.0</td>\n",
       "      <td>NaN</td>\n",
       "    </tr>\n",
       "    <tr>\n",
       "      <th>3</th>\n",
       "      <td>4</td>\n",
       "      <td>그라가스</td>\n",
       "      <td>gragas</td>\n",
       "      <td>TOP</td>\n",
       "      <td>https://lck-esports-manager.s3.ap-northeast-2....</td>\n",
       "      <td>4.0</td>\n",
       "      <td>NaN</td>\n",
       "    </tr>\n",
       "    <tr>\n",
       "      <th>4</th>\n",
       "      <td>5</td>\n",
       "      <td>그레이브즈</td>\n",
       "      <td>graves</td>\n",
       "      <td>JUNGLE</td>\n",
       "      <td>https://lck-esports-manager.s3.ap-northeast-2....</td>\n",
       "      <td>5.0</td>\n",
       "      <td>NaN</td>\n",
       "    </tr>\n",
       "    <tr>\n",
       "      <th>5</th>\n",
       "      <td>6</td>\n",
       "      <td>그웬</td>\n",
       "      <td>gwen</td>\n",
       "      <td>TOP</td>\n",
       "      <td>https://lck-esports-manager.s3.ap-northeast-2....</td>\n",
       "      <td>4.0</td>\n",
       "      <td>NaN</td>\n",
       "    </tr>\n",
       "    <tr>\n",
       "      <th>6</th>\n",
       "      <td>7</td>\n",
       "      <td>나르</td>\n",
       "      <td>gnar</td>\n",
       "      <td>TOP</td>\n",
       "      <td>https://lck-esports-manager.s3.ap-northeast-2....</td>\n",
       "      <td>4.0</td>\n",
       "      <td>NaN</td>\n",
       "    </tr>\n",
       "    <tr>\n",
       "      <th>7</th>\n",
       "      <td>8</td>\n",
       "      <td>나미</td>\n",
       "      <td>nami</td>\n",
       "      <td>SUPPORT</td>\n",
       "      <td>https://lck-esports-manager.s3.ap-northeast-2....</td>\n",
       "      <td>5.0</td>\n",
       "      <td>NaN</td>\n",
       "    </tr>\n",
       "    <tr>\n",
       "      <th>8</th>\n",
       "      <td>9</td>\n",
       "      <td>나서스</td>\n",
       "      <td>nasus</td>\n",
       "      <td>TOP</td>\n",
       "      <td>https://lck-esports-manager.s3.ap-northeast-2....</td>\n",
       "      <td>4.0</td>\n",
       "      <td>NaN</td>\n",
       "    </tr>\n",
       "    <tr>\n",
       "      <th>9</th>\n",
       "      <td>10</td>\n",
       "      <td>노틸러스</td>\n",
       "      <td>nautilus</td>\n",
       "      <td>SUPPORT</td>\n",
       "      <td>https://lck-esports-manager.s3.ap-northeast-2....</td>\n",
       "      <td>5.0</td>\n",
       "      <td>NaN</td>\n",
       "    </tr>\n",
       "  </tbody>\n",
       "</table>\n",
       "</div>"
      ],
      "text/plain": [
       "   id korean_name english_name position  \\\n",
       "0   1          가렌        garen      TOP   \n",
       "1   2         갈리오        galio   MIDDLE   \n",
       "2   3        갱플랭크    gangplank      TOP   \n",
       "3   4        그라가스       gragas      TOP   \n",
       "4   5       그레이브즈       graves   JUNGLE   \n",
       "5   6          그웬         gwen      TOP   \n",
       "6   7          나르         gnar      TOP   \n",
       "7   8          나미         nami  SUPPORT   \n",
       "8   9         나서스        nasus      TOP   \n",
       "9  10        노틸러스     nautilus  SUPPORT   \n",
       "\n",
       "                                               image  tier  feature  \n",
       "0  https://lck-esports-manager.s3.ap-northeast-2....   1.0      NaN  \n",
       "1  https://lck-esports-manager.s3.ap-northeast-2....   5.0      NaN  \n",
       "2  https://lck-esports-manager.s3.ap-northeast-2....   4.0      NaN  \n",
       "3  https://lck-esports-manager.s3.ap-northeast-2....   4.0      NaN  \n",
       "4  https://lck-esports-manager.s3.ap-northeast-2....   5.0      NaN  \n",
       "5  https://lck-esports-manager.s3.ap-northeast-2....   4.0      NaN  \n",
       "6  https://lck-esports-manager.s3.ap-northeast-2....   4.0      NaN  \n",
       "7  https://lck-esports-manager.s3.ap-northeast-2....   5.0      NaN  \n",
       "8  https://lck-esports-manager.s3.ap-northeast-2....   4.0      NaN  \n",
       "9  https://lck-esports-manager.s3.ap-northeast-2....   5.0      NaN  "
      ]
     },
     "execution_count": 16,
     "metadata": {},
     "output_type": "execute_result"
    }
   ],
   "source": [
    "df.head(10)"
   ]
  },
  {
   "cell_type": "code",
   "execution_count": 17,
   "id": "2f3a7847",
   "metadata": {
    "scrolled": true
   },
   "outputs": [
    {
     "name": "stderr",
     "output_type": "stream",
     "text": [
      "C:\\Users\\skql5\\AppData\\Local\\Temp\\ipykernel_20584\\4116226532.py:1: FutureWarning: The pandas.np module is deprecated and will be removed from pandas in a future version. Import numpy directly instead.\n",
      "  df['tier']=df['tier'].astype(pd.np.int64)\n"
     ]
    }
   ],
   "source": [
    "df['tier']=df['tier'].astype(pd.np.int64)"
   ]
  },
  {
   "cell_type": "code",
   "execution_count": 18,
   "id": "1151d6e6",
   "metadata": {},
   "outputs": [],
   "source": [
    "df.to_csv(\"champion_no_feature.csv\", index=False, encoding=\"utf-8-sig\",sep=\";\")"
   ]
  },
  {
   "cell_type": "code",
   "execution_count": null,
   "id": "363dec68",
   "metadata": {},
   "outputs": [],
   "source": []
  }
 ],
 "metadata": {
  "kernelspec": {
   "display_name": "Python 3 (ipykernel)",
   "language": "python",
   "name": "python3"
  },
  "language_info": {
   "codemirror_mode": {
    "name": "ipython",
    "version": 3
   },
   "file_extension": ".py",
   "mimetype": "text/x-python",
   "name": "python",
   "nbconvert_exporter": "python",
   "pygments_lexer": "ipython3",
   "version": "3.9.4"
  }
 },
 "nbformat": 4,
 "nbformat_minor": 5
}
